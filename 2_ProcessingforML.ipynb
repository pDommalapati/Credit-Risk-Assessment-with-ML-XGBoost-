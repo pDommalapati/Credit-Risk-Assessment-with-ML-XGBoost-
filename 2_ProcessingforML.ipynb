{
  "nbformat": 4,
  "nbformat_minor": 0,
  "metadata": {
    "colab": {
      "provenance": [],
      "authorship_tag": "ABX9TyNsDSr9YA9vVIa6ApYc/HvV",
      "include_colab_link": true
    },
    "kernelspec": {
      "name": "python3",
      "display_name": "Python 3"
    },
    "language_info": {
      "name": "python"
    }
  },
  "cells": [
    {
      "cell_type": "markdown",
      "metadata": {
        "id": "view-in-github",
        "colab_type": "text"
      },
      "source": [
        "<a href=\"https://colab.research.google.com/github/PatWoo23/CreditRiskAnalysis_Project/blob/main/XGBoostModel/2_ProcessingforML.ipynb\" target=\"_parent\"><img src=\"https://colab.research.google.com/assets/colab-badge.svg\" alt=\"Open In Colab\"/></a>"
      ]
    },
    {
      "cell_type": "code",
      "source": [
        "from google.colab import drive\n",
        "drive.mount('/content/drive')"
      ],
      "metadata": {
        "colab": {
          "base_uri": "https://localhost:8080/"
        },
        "id": "ljsH3SVXagXF",
        "outputId": "578e003a-aae0-4339-e8e6-234e3dd6871b"
      },
      "execution_count": null,
      "outputs": [
        {
          "output_type": "stream",
          "name": "stdout",
          "text": [
            "Mounted at /content/drive\n"
          ]
        }
      ]
    },
    {
      "cell_type": "code",
      "execution_count": null,
      "metadata": {
        "id": "VFvzYrmqaPI0"
      },
      "outputs": [],
      "source": [
        "import pandas as pd\n",
        "import os\n",
        "import numpy as np\n",
        "import matplotlib.pyplot as plt\n",
        "import seaborn as sns\n",
        "from copy import deepcopy\n",
        "\n",
        "# Machine Learning related libraries\n",
        "# For lable encoding\n",
        "from sklearn.preprocessing import LabelEncoder\n",
        "from sklearn.model_selection import train_test_split, RandomizedSearchCV\n",
        "# Importing libraries for evaluation metrics\n",
        "from sklearn.metrics import classification_report, confusion_matrix\n",
        "from sklearn.metrics import f1_score, precision_score, recall_score, accuracy_score, roc_auc_score\n",
        "# Importing libraries for graphs\n",
        "from sklearn.metrics import precision_recall_curve, roc_curve\n",
        "\n",
        "# Importing Logistic Regression, and Random Forest from sklearn\n",
        "from sklearn.linear_model import LogisticRegression\n",
        "from sklearn.ensemble import RandomForestClassifier\n",
        "# Importing XGBoost\n",
        "from xgboost import XGBClassifier\n",
        "\n",
        "# Importing libraries for SHAP\n",
        "import shap"
      ]
    },
    {
      "cell_type": "code",
      "source": [
        "# Import excel. First column as index. First row as header.\n",
        "df0 = pd.read_excel(\"/content/drive/MyDrive/MIS561/1208_ML0.xlsx\", index_col=0, header=0)\n",
        "pd.set_option('display.max_columns', None)\n",
        "# Make a deep copy of df0 to df\n",
        "df = df0.copy(deep=True)\n",
        "print(df.shape)\n",
        "print(df.columns)"
      ],
      "metadata": {
        "colab": {
          "base_uri": "https://localhost:8080/"
        },
        "id": "v2Cauv57ebVG",
        "outputId": "23485944-ff79-4efb-ec4a-eea2c77e71b0"
      },
      "execution_count": null,
      "outputs": [
        {
          "output_type": "stream",
          "name": "stdout",
          "text": [
            "(36116, 19)\n",
            "Index(['CODE_GENDER', 'FLAG_OWN_CAR', 'FLAG_OWN_REALTY', 'NUM_CHILDREN',\n",
            "       'AMT_INCOME_TOTAL', 'NAME_INCOME_TYPE', 'NAME_EDUCATION_TYPE',\n",
            "       'NAME_FAMILY_STATUS', 'NAME_HOUSING_TYPE', 'Age', 'NUM_FAMILY_MEMBERS',\n",
            "       'Employment Years', 'Average Status in Initial Phase',\n",
            "       'Average Status in Current Phase', 'Risky Customers',\n",
            "       'Client Classification', 'FLAG_WORK_PHONE', 'FLAG_PHONE', 'FLAG_EMAIL'],\n",
            "      dtype='object')\n"
          ]
        }
      ]
    },
    {
      "cell_type": "code",
      "source": [
        "print(df.head())"
      ],
      "metadata": {
        "colab": {
          "base_uri": "https://localhost:8080/"
        },
        "id": "RC2f_kWQfhXz",
        "outputId": "cdd4e275-179f-48c5-ef58-11781ce83f54"
      },
      "execution_count": null,
      "outputs": [
        {
          "output_type": "stream",
          "name": "stdout",
          "text": [
            "         CODE_GENDER  FLAG_OWN_CAR  FLAG_OWN_REALTY  NUM_CHILDREN  \\\n",
            "ID                                                                  \n",
            "5026168            1             1                1             0   \n",
            "5035920            0             1                1             1   \n",
            "5041710            1             1                1             3   \n",
            "5045517            1             1                0             1   \n",
            "5095015            0             0                1             0   \n",
            "\n",
            "         AMT_INCOME_TOTAL      NAME_INCOME_TYPE  \\\n",
            "ID                                                \n",
            "5026168          225000.0             Pensioner   \n",
            "5035920          180000.0  Commercial associate   \n",
            "5041710          180000.0               Working   \n",
            "5045517          180000.0               Working   \n",
            "5095015          225000.0  Commercial associate   \n",
            "\n",
            "                   NAME_EDUCATION_TYPE NAME_FAMILY_STATUS  NAME_HOUSING_TYPE  \\\n",
            "ID                                                                             \n",
            "5026168               Higher education            Married  House / apartment   \n",
            "5035920              Incomplete higher            Married  House / apartment   \n",
            "5041710  Secondary / secondary special            Married  House / apartment   \n",
            "5045517  Secondary / secondary special            Married  House / apartment   \n",
            "5095015  Secondary / secondary special            Married  House / apartment   \n",
            "\n",
            "         Age  NUM_FAMILY_MEMBERS  Employment Years  \\\n",
            "ID                                                   \n",
            "5026168   66                   2               6.7   \n",
            "5035920   42                   3               1.9   \n",
            "5041710   39                   5               2.3   \n",
            "5045517   32                   3              12.3   \n",
            "5095015   36                   2               1.8   \n",
            "\n",
            "         Average Status in Initial Phase  Average Status in Current Phase  \\\n",
            "ID                                                                          \n",
            "5026168                              0.0                              0.0   \n",
            "5035920                              0.0                              0.0   \n",
            "5041710                              0.0                              0.0   \n",
            "5045517                              0.0                              0.0   \n",
            "5095015                              0.0                              0.0   \n",
            "\n",
            "         Risky Customers  Client Classification  FLAG_WORK_PHONE  FLAG_PHONE  \\\n",
            "ID                                                                             \n",
            "5026168                0                      0                0           0   \n",
            "5035920                0                      0                0           0   \n",
            "5041710                0                      0                1           1   \n",
            "5045517                0                      0                0           0   \n",
            "5095015                0                      0                0           0   \n",
            "\n",
            "         FLAG_EMAIL  \n",
            "ID                   \n",
            "5026168           0  \n",
            "5035920           0  \n",
            "5041710           0  \n",
            "5045517           0  \n",
            "5095015           0  \n"
          ]
        }
      ]
    },
    {
      "cell_type": "code",
      "source": [
        "# Display the unqiue values of categorical variables\n",
        "unique_values = {\n",
        "    'NAME_INCOME_TYPE': df['NAME_INCOME_TYPE'].unique(),\n",
        "    'NAME_EDUCATION_TYPE': df['NAME_EDUCATION_TYPE'].unique(),\n",
        "    'NAME_FAMILY_STATUS': df['NAME_FAMILY_STATUS'].unique(),\n",
        "    'NAME_HOUSING_TYPE': df['NAME_HOUSING_TYPE'].unique()\n",
        "}\n",
        "\n",
        "for column, values in unique_values.items():\n",
        "    print(f\"Unique values in '{column}':\")\n",
        "    print(values)\n",
        "    print('-' * 50)  # Separator for better readability"
      ],
      "metadata": {
        "colab": {
          "base_uri": "https://localhost:8080/"
        },
        "id": "m9UCkDyafl4W",
        "outputId": "f67dc35b-5982-43ea-e0d1-708efc4ab94d"
      },
      "execution_count": null,
      "outputs": [
        {
          "output_type": "stream",
          "name": "stdout",
          "text": [
            "Unique values in 'NAME_INCOME_TYPE':\n",
            "['Pensioner' 'Commercial associate' 'Working' 'State servant' 'Student']\n",
            "--------------------------------------------------\n",
            "Unique values in 'NAME_EDUCATION_TYPE':\n",
            "['Higher education' 'Incomplete higher' 'Secondary / secondary special'\n",
            " 'Lower secondary' 'Academic degree']\n",
            "--------------------------------------------------\n",
            "Unique values in 'NAME_FAMILY_STATUS':\n",
            "['Married' 'Separated' 'Widow' 'Single / not married']\n",
            "--------------------------------------------------\n",
            "Unique values in 'NAME_HOUSING_TYPE':\n",
            "['House / apartment' 'Rented apartment' 'Municipal apartment'\n",
            " 'With parents' 'Office apartment' 'Co-op apartment']\n",
            "--------------------------------------------------\n"
          ]
        }
      ]
    },
    {
      "cell_type": "markdown",
      "source": [
        "# Transform categorical data into integer."
      ],
      "metadata": {
        "id": "x6uM_5sogqxU"
      }
    },
    {
      "cell_type": "markdown",
      "source": [
        "Do not use get_dummies on GoogleColab because it gives \"True\" or \"False\" instead of 1 or 0."
      ],
      "metadata": {
        "id": "YVOcoRDSi_xm"
      }
    },
    {
      "cell_type": "code",
      "source": [
        "# Initialize the LabelEncoder\n",
        "label_encoder = LabelEncoder()\n",
        "\n",
        "# Fit and transform the 'NAME_INCOME_TYPE' column and save it to 'NEW_INCOME_TYPE'\n",
        "df['NEW_INCOME_TYPE'] = label_encoder.fit_transform(df['NAME_INCOME_TYPE'])\n",
        "\n",
        "# Display the mapping of categories to integers\n",
        "print(\"Label Mapping for NAME_INCOME_TYPE:\")\n",
        "label_mapping = dict(zip(label_encoder.classes_, range(len(label_encoder.classes_))))\n",
        "print(label_mapping)\n",
        "\n",
        "print(\"\\nOriginal Column Values and Corresponding Encoded Values:\")\n",
        "print(df[['NAME_INCOME_TYPE', 'NEW_INCOME_TYPE']].drop_duplicates())"
      ],
      "metadata": {
        "colab": {
          "base_uri": "https://localhost:8080/"
        },
        "id": "Tj69WzDig_PP",
        "outputId": "3f783bf2-6c3a-459e-d3c2-d9d4ebd3e6d0"
      },
      "execution_count": null,
      "outputs": [
        {
          "output_type": "stream",
          "name": "stdout",
          "text": [
            "Label Mapping for NAME_INCOME_TYPE:\n",
            "{'Commercial associate': 0, 'Pensioner': 1, 'State servant': 2, 'Student': 3, 'Working': 4}\n",
            "\n",
            "Original Column Values and Corresponding Encoded Values:\n",
            "             NAME_INCOME_TYPE  NEW_INCOME_TYPE\n",
            "ID                                            \n",
            "5026168             Pensioner                1\n",
            "5035920  Commercial associate                0\n",
            "5041710               Working                4\n",
            "5009210         State servant                2\n",
            "5010457               Student                3\n"
          ]
        }
      ]
    },
    {
      "cell_type": "code",
      "source": [
        "# Similarly, transform 'NAME_EDUCATION_TYPE'\n",
        "label_encoder = LabelEncoder()\n",
        "df['NEW_EDUCATION_TYPE'] = label_encoder.fit_transform(df['NAME_EDUCATION_TYPE'])\n",
        "\n",
        "print(\"Label Mapping for NAME_EDUCATION_TYPE:\")\n",
        "label_mapping = dict(zip(label_encoder.classes_, range(len(label_encoder.classes_))))\n",
        "print(label_mapping)\n",
        "\n",
        "print(\"\\nOriginal Column Values and Corresponding Encoded Values:\")\n",
        "print(df[['NAME_EDUCATION_TYPE', 'NEW_EDUCATION_TYPE']].drop_duplicates())"
      ],
      "metadata": {
        "colab": {
          "base_uri": "https://localhost:8080/"
        },
        "id": "dmjwj3nKi-dJ",
        "outputId": "51072e4b-84fc-4e0f-c164-42d418b645c4"
      },
      "execution_count": null,
      "outputs": [
        {
          "output_type": "stream",
          "name": "stdout",
          "text": [
            "Label Mapping for NAME_EDUCATION_TYPE:\n",
            "{'Academic degree': 0, 'Higher education': 1, 'Incomplete higher': 2, 'Lower secondary': 3, 'Secondary / secondary special': 4}\n",
            "\n",
            "Original Column Values and Corresponding Encoded Values:\n",
            "                   NAME_EDUCATION_TYPE  NEW_EDUCATION_TYPE\n",
            "ID                                                        \n",
            "5026168               Higher education                   1\n",
            "5035920              Incomplete higher                   2\n",
            "5041710  Secondary / secondary special                   4\n",
            "5025820                Lower secondary                   3\n",
            "5011033                Academic degree                   0\n"
          ]
        }
      ]
    },
    {
      "cell_type": "code",
      "source": [
        "# Similarly, transform 'NAME_FAMILY_STATUS'\n",
        "label_encoder = LabelEncoder()\n",
        "df['NEW_FAMILY_STATUS'] = label_encoder.fit_transform(df['NAME_FAMILY_STATUS'])\n",
        "\n",
        "print(\"Label Mapping for NAME_FAMILY_STATUS:\")\n",
        "label_mapping = dict(zip(label_encoder.classes_, range(len(label_encoder.classes_))))\n",
        "print(label_mapping)\n",
        "\n",
        "print(\"\\nOriginal Column Values and Corresponding Encoded Values:\")\n",
        "print(df[['NAME_FAMILY_STATUS', 'NEW_FAMILY_STATUS']].drop_duplicates())"
      ],
      "metadata": {
        "colab": {
          "base_uri": "https://localhost:8080/"
        },
        "id": "OQ2fc1ehoTJ3",
        "outputId": "07c94e2b-5e21-41e9-ad7a-1fade318c8e1"
      },
      "execution_count": null,
      "outputs": [
        {
          "output_type": "stream",
          "name": "stdout",
          "text": [
            "Label Mapping for NAME_FAMILY_STATUS:\n",
            "{'Married': 0, 'Separated': 1, 'Single / not married': 2, 'Widow': 3}\n",
            "\n",
            "Original Column Values and Corresponding Encoded Values:\n",
            "           NAME_FAMILY_STATUS  NEW_FAMILY_STATUS\n",
            "ID                                              \n",
            "5026168               Married                  0\n",
            "5132804             Separated                  1\n",
            "5053152                 Widow                  3\n",
            "5149960  Single / not married                  2\n"
          ]
        }
      ]
    },
    {
      "cell_type": "code",
      "source": [
        "# Similarly, transform 'NAME_HOUSING_TYPE'\n",
        "label_encoder = LabelEncoder()\n",
        "df['NEW_HOUSING_TYPE'] = label_encoder.fit_transform(df['NAME_HOUSING_TYPE'])\n",
        "\n",
        "print(\"Label Mapping for NAME_HOUSING_TYPE:\")\n",
        "label_mapping = dict(zip(label_encoder.classes_, range(len(label_encoder.classes_))))\n",
        "print(label_mapping)\n",
        "\n",
        "print(\"\\nOriginal Column Values and Corresponding Encoded Values:\")\n",
        "print(df[['NAME_HOUSING_TYPE', 'NEW_HOUSING_TYPE']].drop_duplicates())"
      ],
      "metadata": {
        "colab": {
          "base_uri": "https://localhost:8080/"
        },
        "id": "2o6zDZF6otOD",
        "outputId": "2c55fa6c-14b7-40aa-9369-c76c1141047a"
      },
      "execution_count": null,
      "outputs": [
        {
          "output_type": "stream",
          "name": "stdout",
          "text": [
            "Label Mapping for NAME_HOUSING_TYPE:\n",
            "{'Co-op apartment': 0, 'House / apartment': 1, 'Municipal apartment': 2, 'Office apartment': 3, 'Rented apartment': 4, 'With parents': 5}\n",
            "\n",
            "Original Column Values and Corresponding Encoded Values:\n",
            "           NAME_HOUSING_TYPE  NEW_HOUSING_TYPE\n",
            "ID                                            \n",
            "5026168    House / apartment                 1\n",
            "5087482     Rented apartment                 4\n",
            "5096646  Municipal apartment                 2\n",
            "5126749         With parents                 5\n",
            "5010526     Office apartment                 3\n",
            "5036250      Co-op apartment                 0\n"
          ]
        }
      ]
    },
    {
      "cell_type": "code",
      "source": [
        "print(df.info())\n",
        "print(df.describe())"
      ],
      "metadata": {
        "colab": {
          "base_uri": "https://localhost:8080/"
        },
        "id": "sjV4P0JUpOee",
        "outputId": "cd024bea-6f12-4af4-c09d-ddcf37abc3f6"
      },
      "execution_count": null,
      "outputs": [
        {
          "output_type": "stream",
          "name": "stdout",
          "text": [
            "<class 'pandas.core.frame.DataFrame'>\n",
            "Index: 36116 entries, 5026168 to 5150337\n",
            "Data columns (total 23 columns):\n",
            " #   Column                           Non-Null Count  Dtype  \n",
            "---  ------                           --------------  -----  \n",
            " 0   CODE_GENDER                      36116 non-null  int64  \n",
            " 1   FLAG_OWN_CAR                     36116 non-null  int64  \n",
            " 2   FLAG_OWN_REALTY                  36116 non-null  int64  \n",
            " 3   NUM_CHILDREN                     36116 non-null  int64  \n",
            " 4   AMT_INCOME_TOTAL                 36116 non-null  float64\n",
            " 5   NAME_INCOME_TYPE                 36116 non-null  object \n",
            " 6   NAME_EDUCATION_TYPE              36116 non-null  object \n",
            " 7   NAME_FAMILY_STATUS               36116 non-null  object \n",
            " 8   NAME_HOUSING_TYPE                36116 non-null  object \n",
            " 9   Age                              36116 non-null  int64  \n",
            " 10  NUM_FAMILY_MEMBERS               36116 non-null  int64  \n",
            " 11  Employment Years                 36116 non-null  float64\n",
            " 12  Average Status in Initial Phase  36116 non-null  float64\n",
            " 13  Average Status in Current Phase  36116 non-null  float64\n",
            " 14  Risky Customers                  36116 non-null  int64  \n",
            " 15  Client Classification            36116 non-null  int64  \n",
            " 16  FLAG_WORK_PHONE                  36116 non-null  int64  \n",
            " 17  FLAG_PHONE                       36116 non-null  int64  \n",
            " 18  FLAG_EMAIL                       36116 non-null  int64  \n",
            " 19  NEW_INCOME_TYPE                  36116 non-null  int64  \n",
            " 20  NEW_EDUCATION_TYPE               36116 non-null  int64  \n",
            " 21  NEW_FAMILY_STATUS                36116 non-null  int64  \n",
            " 22  NEW_HOUSING_TYPE                 36116 non-null  int64  \n",
            "dtypes: float64(4), int64(15), object(4)\n",
            "memory usage: 6.6+ MB\n",
            "None\n",
            "        CODE_GENDER  FLAG_OWN_CAR  FLAG_OWN_REALTY  NUM_CHILDREN  \\\n",
            "count  36116.000000  36116.000000     36116.000000  36116.000000   \n",
            "mean       0.329743      0.380275         0.671780      0.429366   \n",
            "std        0.470126      0.485461         0.469572      0.728883   \n",
            "min        0.000000      0.000000         0.000000      0.000000   \n",
            "25%        0.000000      0.000000         0.000000      0.000000   \n",
            "50%        0.000000      0.000000         1.000000      0.000000   \n",
            "75%        1.000000      1.000000         1.000000      1.000000   \n",
            "max        1.000000      1.000000         1.000000      7.000000   \n",
            "\n",
            "       AMT_INCOME_TOTAL           Age  NUM_FAMILY_MEMBERS  Employment Years  \\\n",
            "count      3.611600e+04  36116.000000        36116.000000      36116.000000   \n",
            "mean       1.868704e+05     43.789235            2.197862          7.161712   \n",
            "std        1.018642e+05     11.515360            0.899676          5.893794   \n",
            "min        2.700000e+04     21.000000            1.000000          0.000000   \n",
            "25%        1.215000e+05     34.000000            2.000000          3.200000   \n",
            "50%        1.575000e+05     43.000000            2.000000          6.700000   \n",
            "75%        2.250000e+05     53.000000            3.000000          8.600000   \n",
            "max        1.575000e+06     69.000000            7.000000         43.000000   \n",
            "\n",
            "       Average Status in Initial Phase  Average Status in Current Phase  \\\n",
            "count                     36116.000000                     36116.000000   \n",
            "mean                          0.021064                         0.024935   \n",
            "std                           0.134902                         0.213836   \n",
            "min                           0.000000                         0.000000   \n",
            "25%                           0.000000                         0.000000   \n",
            "50%                           0.000000                         0.000000   \n",
            "75%                           0.000000                         0.000000   \n",
            "max                           4.444444                         5.000000   \n",
            "\n",
            "       Risky Customers  Client Classification  FLAG_WORK_PHONE    FLAG_PHONE  \\\n",
            "count     36116.000000           36116.000000     36116.000000  36116.000000   \n",
            "mean          0.045991               0.149823         0.225689      0.295077   \n",
            "std           0.209468               0.356903         0.418041      0.456084   \n",
            "min           0.000000               0.000000         0.000000      0.000000   \n",
            "25%           0.000000               0.000000         0.000000      0.000000   \n",
            "50%           0.000000               0.000000         0.000000      0.000000   \n",
            "75%           0.000000               0.000000         0.000000      1.000000   \n",
            "max           1.000000               1.000000         1.000000      1.000000   \n",
            "\n",
            "         FLAG_EMAIL  NEW_INCOME_TYPE  NEW_EDUCATION_TYPE  NEW_FAMILY_STATUS  \\\n",
            "count  36116.000000     36116.000000        36116.000000       36116.000000   \n",
            "mean       0.089600         2.397303            3.096633           0.447558   \n",
            "std        0.285612         1.734216            1.341473           0.873593   \n",
            "min        0.000000         0.000000            0.000000           0.000000   \n",
            "25%        0.000000         1.000000            1.000000           0.000000   \n",
            "50%        0.000000         4.000000            4.000000           0.000000   \n",
            "75%        0.000000         4.000000            4.000000           0.000000   \n",
            "max        1.000000         4.000000            4.000000           3.000000   \n",
            "\n",
            "       NEW_HOUSING_TYPE  \n",
            "count      36116.000000  \n",
            "mean           1.280928  \n",
            "std            0.947956  \n",
            "min            0.000000  \n",
            "25%            1.000000  \n",
            "50%            1.000000  \n",
            "75%            1.000000  \n",
            "max            5.000000  \n"
          ]
        }
      ]
    },
    {
      "cell_type": "code",
      "source": [
        "# Drop the original columns\n",
        "df = df.drop(columns=['NAME_INCOME_TYPE', 'NAME_EDUCATION_TYPE', 'NAME_FAMILY_STATUS', 'NAME_HOUSING_TYPE'])\n",
        "print(df.columns)"
      ],
      "metadata": {
        "colab": {
          "base_uri": "https://localhost:8080/"
        },
        "id": "adcyjcT_pbXJ",
        "outputId": "5ff660e7-4ed4-4cba-bbc0-8dcedfb5bf1d"
      },
      "execution_count": null,
      "outputs": [
        {
          "output_type": "stream",
          "name": "stdout",
          "text": [
            "Index(['CODE_GENDER', 'FLAG_OWN_CAR', 'FLAG_OWN_REALTY', 'NUM_CHILDREN',\n",
            "       'AMT_INCOME_TOTAL', 'Age', 'NUM_FAMILY_MEMBERS', 'Employment Years',\n",
            "       'Average Status in Initial Phase', 'Average Status in Current Phase',\n",
            "       'Risky Customers', 'Client Classification', 'FLAG_WORK_PHONE',\n",
            "       'FLAG_PHONE', 'FLAG_EMAIL', 'NEW_INCOME_TYPE', 'NEW_EDUCATION_TYPE',\n",
            "       'NEW_FAMILY_STATUS', 'NEW_HOUSING_TYPE'],\n",
            "      dtype='object')\n"
          ]
        }
      ]
    },
    {
      "cell_type": "code",
      "source": [
        "# Export df\n",
        "df.to_excel(\"/content/drive/MyDrive/MIS561/1208_ML1.xlsx\", index=False, header=True)\n",
        "print(\"DataFrame successfully exported to /content/drive/MyDrive/MIS561/1208_ML1.xlsx\")"
      ],
      "metadata": {
        "colab": {
          "base_uri": "https://localhost:8080/"
        },
        "id": "H3_Zk7qLqHd-",
        "outputId": "06217c1c-5992-48c8-f56e-c630cedf276a"
      },
      "execution_count": null,
      "outputs": [
        {
          "output_type": "stream",
          "name": "stdout",
          "text": [
            "DataFrame successfully exported to /content/drive/MyDrive/MIS561/1208_ML1.xlsx\n"
          ]
        }
      ]
    },
    {
      "cell_type": "code",
      "source": [
        "# For checking\n",
        "df.to_excel(\"/content/drive/MyDrive/MIS561/1208_ML1.xlsx\", index=False, header=True)\n",
        "print(df.head())"
      ],
      "metadata": {
        "colab": {
          "base_uri": "https://localhost:8080/"
        },
        "id": "UKvXAZTkrgQT",
        "outputId": "16dde854-244e-488f-abdf-ed879060a8a2"
      },
      "execution_count": null,
      "outputs": [
        {
          "output_type": "stream",
          "name": "stdout",
          "text": [
            "         CODE_GENDER  FLAG_OWN_CAR  FLAG_OWN_REALTY  NUM_CHILDREN  \\\n",
            "ID                                                                  \n",
            "5026168            1             1                1             0   \n",
            "5035920            0             1                1             1   \n",
            "5041710            1             1                1             3   \n",
            "5045517            1             1                0             1   \n",
            "5095015            0             0                1             0   \n",
            "\n",
            "         AMT_INCOME_TOTAL  Age  NUM_FAMILY_MEMBERS  Employment Years  \\\n",
            "ID                                                                     \n",
            "5026168          225000.0   66                   2               6.7   \n",
            "5035920          180000.0   42                   3               1.9   \n",
            "5041710          180000.0   39                   5               2.3   \n",
            "5045517          180000.0   32                   3              12.3   \n",
            "5095015          225000.0   36                   2               1.8   \n",
            "\n",
            "         Average Status in Initial Phase  Average Status in Current Phase  \\\n",
            "ID                                                                          \n",
            "5026168                              0.0                              0.0   \n",
            "5035920                              0.0                              0.0   \n",
            "5041710                              0.0                              0.0   \n",
            "5045517                              0.0                              0.0   \n",
            "5095015                              0.0                              0.0   \n",
            "\n",
            "         Risky Customers  Client Classification  FLAG_WORK_PHONE  FLAG_PHONE  \\\n",
            "ID                                                                             \n",
            "5026168                0                      0                0           0   \n",
            "5035920                0                      0                0           0   \n",
            "5041710                0                      0                1           1   \n",
            "5045517                0                      0                0           0   \n",
            "5095015                0                      0                0           0   \n",
            "\n",
            "         FLAG_EMAIL  NEW_INCOME_TYPE  NEW_EDUCATION_TYPE  NEW_FAMILY_STATUS  \\\n",
            "ID                                                                            \n",
            "5026168           0                1                   1                  0   \n",
            "5035920           0                0                   2                  0   \n",
            "5041710           0                4                   4                  0   \n",
            "5045517           0                4                   4                  0   \n",
            "5095015           0                0                   4                  0   \n",
            "\n",
            "         NEW_HOUSING_TYPE  \n",
            "ID                         \n",
            "5026168                 1  \n",
            "5035920                 1  \n",
            "5041710                 1  \n",
            "5045517                 1  \n",
            "5095015                 1  \n"
          ]
        }
      ]
    }
  ]
}